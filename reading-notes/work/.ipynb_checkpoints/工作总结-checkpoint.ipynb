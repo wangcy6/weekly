{
 "cells": [
  {
   "cell_type": "markdown",
   "metadata": {},
   "source": [
    " [testing-memory-allocators](http://ithare.com/wp-content/uploads/malloc-cpu.png)\n"
   ]
  },
  {
   "cell_type": "markdown",
   "metadata": {},
   "source": [
    "\n",
    "licode安装使用\n",
    "\n",
    "官方http://lynckia.com/licode/install.html\n",
    "\n",
    "好吧，log4cxx在这个版本的centos上面，没有提供，只能下载源码进行编译了\n",
    "\n",
    "apr: http://apr.apache.org/download.cgi\n",
    "apr-util: http://apr.apache.org/download.cgi\n",
    "log4cxx: http://logging.apache.org/log4cxx/download.html\n",
    "\n",
    "\n",
    "https://blog.csdn.net/lipku/article/details/78895660\n",
    "sudo apt-get install libperl-dev\n",
    "sudo apt install make gcc pkg-config meson libavcodec-dev libavformat-dev libavutil-dev libsdl2-dev\n",
    "\n",
    "\n",
    "\n",
    "\n",
    "\n",
    "\n"
   ]
  },
  {
   "cell_type": "markdown",
   "metadata": {},
   "source": [
    "禁止通过ftp方式来修改代码是正确判断，因为以前工作习惯造成了你 直接修改一行代码 然后删除一行代码 --后面从来没有\n",
    "\n",
    "记录不是目的，是辅助手段，记录占据100%的精力 "
   ]
  },
  {
   "cell_type": "markdown",
   "metadata": {},
   "source": [
    "1. 内存管理 1 \n",
    "watch -n 1 --difference \"ps -o min_flt,maj_flt,cmd,args,uid,gid 13713\" ok\n",
    "2 memcache 多线程 \n",
    "\n"
   ]
  }
 ],
 "metadata": {
  "kernelspec": {
   "display_name": "Python 3",
   "language": "python",
   "name": "python3"
  },
  "language_info": {
   "codemirror_mode": {
    "name": "ipython",
    "version": 3
   },
   "file_extension": ".py",
   "mimetype": "text/x-python",
   "name": "python",
   "nbconvert_exporter": "python",
   "pygments_lexer": "ipython3",
   "version": "3.5.0"
  }
 },
 "nbformat": 4,
 "nbformat_minor": 2
}
